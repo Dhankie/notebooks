{
 "cells": [
  {
   "cell_type": "markdown",
   "metadata": {},
   "source": [
    "# Introduction: IPython Widgets\n",
    "\n",
    "In this notebook, we will get an introduction to IPython widgets. These are tools that allow us to build interactivity into our notebooks often with a single line of code. These widgets are very useful for data exploration and analysis, for example, selecting certain data or updating charts. In effect, Widgets allow you to make Jupyter Notebooks into an interactive dashboard instead of a static document."
   ]
  },
  {
   "cell_type": "markdown",
   "metadata": {},
   "source": [
    "Run the below cell if needed. You can also do this from the command line. If in Jupyter lab, [check out the instructions for that environment](https://ipywidgets.readthedocs.io/en/stable/user_install.html). "
   ]
  },
  {
   "cell_type": "code",
   "execution_count": 1,
   "metadata": {
    "ExecuteTime": {
     "end_time": "2019-02-11T21:59:15.249992Z",
     "start_time": "2019-02-11T21:59:12.848653Z"
    },
    "collapsed": true
   },
   "outputs": [
    {
     "name": "stderr",
     "output_type": "stream",
     "text": [
      "Enabling notebook extension jupyter-js-widgets/extension...\n",
      "      - Validating: ok\n"
     ]
    }
   ],
   "source": [
    "!pip install -U -q ipywidgets\n",
    "!jupyter nbextension enable --py widgetsnbextension"
   ]
  },
  {
   "cell_type": "markdown",
   "metadata": {},
   "source": [
    "These are the other imports will use. "
   ]
  },
  {
   "cell_type": "code",
   "execution_count": 1,
   "metadata": {
    "ExecuteTime": {
     "end_time": "2019-02-11T21:59:16.649010Z",
     "start_time": "2019-02-11T21:59:15.252863Z"
    }
   },
   "outputs": [
    {
     "data": {
      "text/html": [
       "        <script type=\"text/javascript\">\n",
       "        window.PlotlyConfig = {MathJaxConfig: 'local'};\n",
       "        if (window.MathJax) {MathJax.Hub.Config({SVG: {font: \"STIX-Web\"}});}\n",
       "        if (typeof require !== 'undefined') {\n",
       "        require.undef(\"plotly\");\n",
       "        requirejs.config({\n",
       "            paths: {\n",
       "                'plotly': ['https://cdn.plot.ly/plotly-2.2.0.min']\n",
       "            }\n",
       "        });\n",
       "        require(['plotly'], function(Plotly) {\n",
       "            window._Plotly = Plotly;\n",
       "        });\n",
       "        }\n",
       "        </script>\n",
       "        "
      ]
     },
     "metadata": {},
     "output_type": "display_data"
    },
    {
     "data": {
      "text/html": [
       "        <script type=\"text/javascript\">\n",
       "        window.PlotlyConfig = {MathJaxConfig: 'local'};\n",
       "        if (window.MathJax) {MathJax.Hub.Config({SVG: {font: \"STIX-Web\"}});}\n",
       "        if (typeof require !== 'undefined') {\n",
       "        require.undef(\"plotly\");\n",
       "        requirejs.config({\n",
       "            paths: {\n",
       "                'plotly': ['https://cdn.plot.ly/plotly-2.2.0.min']\n",
       "            }\n",
       "        });\n",
       "        require(['plotly'], function(Plotly) {\n",
       "            window._Plotly = Plotly;\n",
       "        });\n",
       "        }\n",
       "        </script>\n",
       "        "
      ]
     },
     "metadata": {},
     "output_type": "display_data"
    }
   ],
   "source": [
    "# Standard Data Science Helpers\n",
    "import numpy as np\n",
    "import pandas as pd\n",
    "import scipy\n",
    "\n",
    "import chart_studio.plotly as py\n",
    "import plotly.graph_objs as go\n",
    "from plotly.offline import iplot, init_notebook_mode\n",
    "init_notebook_mode(connected=True)\n",
    "\n",
    "import cufflinks as cf\n",
    "cf.go_offline(connected=True)\n",
    "cf.set_config_file(colorscale='plotly', world_readable=True)\n",
    "\n",
    "# Extra options\n",
    "pd.options.display.max_rows = 30\n",
    "pd.options.display.max_columns = 25\n",
    "\n",
    "# Show all code cells outputs\n",
    "from IPython.core.interactiveshell import InteractiveShell\n",
    "InteractiveShell.ast_node_interactivity = 'all'"
   ]
  },
  {
   "cell_type": "code",
   "execution_count": 2,
   "metadata": {
    "ExecuteTime": {
     "end_time": "2019-02-11T21:59:16.677478Z",
     "start_time": "2019-02-11T21:59:16.650547Z"
    }
   },
   "outputs": [],
   "source": [
    "import os\n",
    "from IPython.display import Image, display, HTML"
   ]
  },
  {
   "cell_type": "markdown",
   "metadata": {},
   "source": [
    "## Data\n",
    "\n",
    "For this project, we'll work with my medium stats data. You can grab your own data or just use mine! "
   ]
  },
  {
   "cell_type": "code",
   "execution_count": 3,
   "metadata": {},
   "outputs": [
    {
     "data": {
      "text/html": [
       "<div>\n",
       "<style scoped>\n",
       "    .dataframe tbody tr th:only-of-type {\n",
       "        vertical-align: middle;\n",
       "    }\n",
       "\n",
       "    .dataframe tbody tr th {\n",
       "        vertical-align: top;\n",
       "    }\n",
       "\n",
       "    .dataframe thead th {\n",
       "        text-align: right;\n",
       "    }\n",
       "</style>\n",
       "<table border=\"1\" class=\"dataframe\">\n",
       "  <thead>\n",
       "    <tr style=\"text-align: right;\">\n",
       "      <th></th>\n",
       "      <th>claps</th>\n",
       "      <th>days_since_publication</th>\n",
       "      <th>fans</th>\n",
       "      <th>link</th>\n",
       "      <th>num_responses</th>\n",
       "      <th>publication</th>\n",
       "      <th>published_date</th>\n",
       "      <th>read_ratio</th>\n",
       "      <th>read_time</th>\n",
       "      <th>reads</th>\n",
       "      <th>started_date</th>\n",
       "      <th>tags</th>\n",
       "      <th>text</th>\n",
       "      <th>title</th>\n",
       "      <th>title_word_count</th>\n",
       "      <th>type</th>\n",
       "      <th>views</th>\n",
       "      <th>word_count</th>\n",
       "      <th>claps_per_word</th>\n",
       "      <th>editing_days</th>\n",
       "      <th>&lt;tag&gt;Education</th>\n",
       "      <th>&lt;tag&gt;Data Science</th>\n",
       "      <th>&lt;tag&gt;Towards Data Science</th>\n",
       "      <th>&lt;tag&gt;Machine Learning</th>\n",
       "      <th>&lt;tag&gt;Python</th>\n",
       "    </tr>\n",
       "  </thead>\n",
       "  <tbody>\n",
       "    <tr>\n",
       "      <th>129</th>\n",
       "      <td>2</td>\n",
       "      <td>597.301123</td>\n",
       "      <td>2</td>\n",
       "      <td>https://medium.com/p/screw-the-environment-but...</td>\n",
       "      <td>0</td>\n",
       "      <td>None</td>\n",
       "      <td>2017-06-10 14:25:00</td>\n",
       "      <td>42.17</td>\n",
       "      <td>7</td>\n",
       "      <td>70</td>\n",
       "      <td>2017-06-10 14:24:00</td>\n",
       "      <td>[Climate Change, Economics]</td>\n",
       "      <td>Screw the Environment, but Consider Your Walle...</td>\n",
       "      <td>Screw the Environment, but Consider Your Wallet</td>\n",
       "      <td>8</td>\n",
       "      <td>published</td>\n",
       "      <td>166</td>\n",
       "      <td>1859</td>\n",
       "      <td>0.001076</td>\n",
       "      <td>0</td>\n",
       "      <td>0</td>\n",
       "      <td>0</td>\n",
       "      <td>0</td>\n",
       "      <td>0</td>\n",
       "      <td>0</td>\n",
       "    </tr>\n",
       "    <tr>\n",
       "      <th>125</th>\n",
       "      <td>18</td>\n",
       "      <td>589.983168</td>\n",
       "      <td>3</td>\n",
       "      <td>https://medium.com/p/the-vanquishing-of-war-pl...</td>\n",
       "      <td>0</td>\n",
       "      <td>None</td>\n",
       "      <td>2017-06-17 22:02:00</td>\n",
       "      <td>30.34</td>\n",
       "      <td>14</td>\n",
       "      <td>54</td>\n",
       "      <td>2017-06-17 22:02:00</td>\n",
       "      <td>[Climate Change, Humanity, Optimism, History]</td>\n",
       "      <td>The Vanquishing of War, Plague and Famine Part...</td>\n",
       "      <td>The Vanquishing of War, Plague and Famine</td>\n",
       "      <td>8</td>\n",
       "      <td>published</td>\n",
       "      <td>178</td>\n",
       "      <td>3891</td>\n",
       "      <td>0.004626</td>\n",
       "      <td>0</td>\n",
       "      <td>0</td>\n",
       "      <td>0</td>\n",
       "      <td>0</td>\n",
       "      <td>0</td>\n",
       "      <td>0</td>\n",
       "    </tr>\n",
       "    <tr>\n",
       "      <th>132</th>\n",
       "      <td>51</td>\n",
       "      <td>577.363292</td>\n",
       "      <td>20</td>\n",
       "      <td>https://medium.com/p/capstone-project-mercedes...</td>\n",
       "      <td>0</td>\n",
       "      <td>None</td>\n",
       "      <td>2017-06-30 12:55:00</td>\n",
       "      <td>20.02</td>\n",
       "      <td>42</td>\n",
       "      <td>222</td>\n",
       "      <td>2017-06-30 12:00:00</td>\n",
       "      <td>[Machine Learning, Python, Udacity, Kaggle]</td>\n",
       "      <td>Capstone Project: Mercedes-Benz Greener Manufa...</td>\n",
       "      <td>Capstone Project: Mercedes-Benz Greener Manufa...</td>\n",
       "      <td>7</td>\n",
       "      <td>published</td>\n",
       "      <td>1109</td>\n",
       "      <td>12025</td>\n",
       "      <td>0.004241</td>\n",
       "      <td>0</td>\n",
       "      <td>0</td>\n",
       "      <td>0</td>\n",
       "      <td>0</td>\n",
       "      <td>1</td>\n",
       "      <td>1</td>\n",
       "    </tr>\n",
       "    <tr>\n",
       "      <th>126</th>\n",
       "      <td>0</td>\n",
       "      <td>576.520688</td>\n",
       "      <td>0</td>\n",
       "      <td>https://medium.com/p/home-of-the-scared-5af0fe...</td>\n",
       "      <td>0</td>\n",
       "      <td>None</td>\n",
       "      <td>2017-07-01 09:08:00</td>\n",
       "      <td>35.85</td>\n",
       "      <td>9</td>\n",
       "      <td>19</td>\n",
       "      <td>2017-06-30 18:21:00</td>\n",
       "      <td>[Politics, Books, News, Media Criticism]</td>\n",
       "      <td>Home of the Scared A review of A Culture of Fe...</td>\n",
       "      <td>Home of the Scared</td>\n",
       "      <td>4</td>\n",
       "      <td>published</td>\n",
       "      <td>53</td>\n",
       "      <td>2533</td>\n",
       "      <td>0.000000</td>\n",
       "      <td>0</td>\n",
       "      <td>0</td>\n",
       "      <td>0</td>\n",
       "      <td>0</td>\n",
       "      <td>0</td>\n",
       "      <td>0</td>\n",
       "    </tr>\n",
       "    <tr>\n",
       "      <th>121</th>\n",
       "      <td>0</td>\n",
       "      <td>572.533035</td>\n",
       "      <td>0</td>\n",
       "      <td>https://medium.com/p/the-triumph-of-peace-f485...</td>\n",
       "      <td>0</td>\n",
       "      <td>None</td>\n",
       "      <td>2017-07-05 08:51:00</td>\n",
       "      <td>8.47</td>\n",
       "      <td>14</td>\n",
       "      <td>5</td>\n",
       "      <td>2017-07-03 20:18:00</td>\n",
       "      <td>[Books, Psychology, History, Humanism]</td>\n",
       "      <td>The Triumph of Peace A review of The Better An...</td>\n",
       "      <td>The Triumph of Peace</td>\n",
       "      <td>4</td>\n",
       "      <td>published</td>\n",
       "      <td>59</td>\n",
       "      <td>3892</td>\n",
       "      <td>0.000000</td>\n",
       "      <td>1</td>\n",
       "      <td>0</td>\n",
       "      <td>0</td>\n",
       "      <td>0</td>\n",
       "      <td>0</td>\n",
       "      <td>0</td>\n",
       "    </tr>\n",
       "  </tbody>\n",
       "</table>\n",
       "</div>"
      ],
      "text/plain": [
       "     claps  days_since_publication  fans  \\\n",
       "129      2              597.301123     2   \n",
       "125     18              589.983168     3   \n",
       "132     51              577.363292    20   \n",
       "126      0              576.520688     0   \n",
       "121      0              572.533035     0   \n",
       "\n",
       "                                                  link  num_responses  \\\n",
       "129  https://medium.com/p/screw-the-environment-but...              0   \n",
       "125  https://medium.com/p/the-vanquishing-of-war-pl...              0   \n",
       "132  https://medium.com/p/capstone-project-mercedes...              0   \n",
       "126  https://medium.com/p/home-of-the-scared-5af0fe...              0   \n",
       "121  https://medium.com/p/the-triumph-of-peace-f485...              0   \n",
       "\n",
       "    publication      published_date  read_ratio  read_time  reads  \\\n",
       "129        None 2017-06-10 14:25:00       42.17          7     70   \n",
       "125        None 2017-06-17 22:02:00       30.34         14     54   \n",
       "132        None 2017-06-30 12:55:00       20.02         42    222   \n",
       "126        None 2017-07-01 09:08:00       35.85          9     19   \n",
       "121        None 2017-07-05 08:51:00        8.47         14      5   \n",
       "\n",
       "           started_date                                           tags  \\\n",
       "129 2017-06-10 14:24:00                    [Climate Change, Economics]   \n",
       "125 2017-06-17 22:02:00  [Climate Change, Humanity, Optimism, History]   \n",
       "132 2017-06-30 12:00:00    [Machine Learning, Python, Udacity, Kaggle]   \n",
       "126 2017-06-30 18:21:00       [Politics, Books, News, Media Criticism]   \n",
       "121 2017-07-03 20:18:00         [Books, Psychology, History, Humanism]   \n",
       "\n",
       "                                                  text  \\\n",
       "129  Screw the Environment, but Consider Your Walle...   \n",
       "125  The Vanquishing of War, Plague and Famine Part...   \n",
       "132  Capstone Project: Mercedes-Benz Greener Manufa...   \n",
       "126  Home of the Scared A review of A Culture of Fe...   \n",
       "121  The Triumph of Peace A review of The Better An...   \n",
       "\n",
       "                                                 title  title_word_count  \\\n",
       "129    Screw the Environment, but Consider Your Wallet                 8   \n",
       "125          The Vanquishing of War, Plague and Famine                 8   \n",
       "132  Capstone Project: Mercedes-Benz Greener Manufa...                 7   \n",
       "126                                 Home of the Scared                 4   \n",
       "121                               The Triumph of Peace                 4   \n",
       "\n",
       "          type  views  word_count  claps_per_word  editing_days  \\\n",
       "129  published    166        1859        0.001076             0   \n",
       "125  published    178        3891        0.004626             0   \n",
       "132  published   1109       12025        0.004241             0   \n",
       "126  published     53        2533        0.000000             0   \n",
       "121  published     59        3892        0.000000             1   \n",
       "\n",
       "     <tag>Education  <tag>Data Science  <tag>Towards Data Science  \\\n",
       "129               0                  0                          0   \n",
       "125               0                  0                          0   \n",
       "132               0                  0                          0   \n",
       "126               0                  0                          0   \n",
       "121               0                  0                          0   \n",
       "\n",
       "     <tag>Machine Learning  <tag>Python  \n",
       "129                      0            0  \n",
       "125                      0            0  \n",
       "132                      1            1  \n",
       "126                      0            0  \n",
       "121                      0            0  "
      ]
     },
     "execution_count": 3,
     "metadata": {},
     "output_type": "execute_result"
    }
   ],
   "source": [
    "df = pd.read_parquet(\"https://github.com/Archana-blog/notebooks/blob/6963e561905bf15daa3a87f1ecae87cda8481699/data?raw=true\", engine='pyarrow')\n",
    "df.head()"
   ]
  },
  {
   "cell_type": "code",
   "execution_count": 4,
   "metadata": {
    "ExecuteTime": {
     "end_time": "2019-02-11T21:59:17.847235Z",
     "start_time": "2019-02-11T21:59:17.741021Z"
    }
   },
   "outputs": [
    {
     "data": {
      "text/html": [
       "<div>\n",
       "<style scoped>\n",
       "    .dataframe tbody tr th:only-of-type {\n",
       "        vertical-align: middle;\n",
       "    }\n",
       "\n",
       "    .dataframe tbody tr th {\n",
       "        vertical-align: top;\n",
       "    }\n",
       "\n",
       "    .dataframe thead th {\n",
       "        text-align: right;\n",
       "    }\n",
       "</style>\n",
       "<table border=\"1\" class=\"dataframe\">\n",
       "  <thead>\n",
       "    <tr style=\"text-align: right;\">\n",
       "      <th></th>\n",
       "      <th>claps</th>\n",
       "      <th>days_since_publication</th>\n",
       "      <th>fans</th>\n",
       "      <th>num_responses</th>\n",
       "      <th>read_ratio</th>\n",
       "      <th>read_time</th>\n",
       "      <th>reads</th>\n",
       "      <th>title_word_count</th>\n",
       "      <th>views</th>\n",
       "      <th>word_count</th>\n",
       "      <th>claps_per_word</th>\n",
       "      <th>editing_days</th>\n",
       "      <th>&lt;tag&gt;Education</th>\n",
       "      <th>&lt;tag&gt;Data Science</th>\n",
       "      <th>&lt;tag&gt;Towards Data Science</th>\n",
       "      <th>&lt;tag&gt;Machine Learning</th>\n",
       "      <th>&lt;tag&gt;Python</th>\n",
       "    </tr>\n",
       "  </thead>\n",
       "  <tbody>\n",
       "    <tr>\n",
       "      <th>count</th>\n",
       "      <td>133.000000</td>\n",
       "      <td>133.000000</td>\n",
       "      <td>133.000000</td>\n",
       "      <td>133.000000</td>\n",
       "      <td>133.000000</td>\n",
       "      <td>133.000000</td>\n",
       "      <td>133.000000</td>\n",
       "      <td>133.000000</td>\n",
       "      <td>133.000000</td>\n",
       "      <td>133.000000</td>\n",
       "      <td>133.000000</td>\n",
       "      <td>133.000000</td>\n",
       "      <td>133.000000</td>\n",
       "      <td>133.000000</td>\n",
       "      <td>133.000000</td>\n",
       "      <td>133.000000</td>\n",
       "      <td>133.000000</td>\n",
       "    </tr>\n",
       "    <tr>\n",
       "      <th>mean</th>\n",
       "      <td>1815.263158</td>\n",
       "      <td>248.407273</td>\n",
       "      <td>352.052632</td>\n",
       "      <td>7.045113</td>\n",
       "      <td>29.074662</td>\n",
       "      <td>12.917293</td>\n",
       "      <td>6336.300752</td>\n",
       "      <td>7.127820</td>\n",
       "      <td>23404.030075</td>\n",
       "      <td>3029.120301</td>\n",
       "      <td>0.957638</td>\n",
       "      <td>20.330827</td>\n",
       "      <td>0.729323</td>\n",
       "      <td>0.609023</td>\n",
       "      <td>0.436090</td>\n",
       "      <td>0.383459</td>\n",
       "      <td>0.315789</td>\n",
       "    </tr>\n",
       "    <tr>\n",
       "      <th>std</th>\n",
       "      <td>2449.074661</td>\n",
       "      <td>179.370879</td>\n",
       "      <td>479.060117</td>\n",
       "      <td>9.056108</td>\n",
       "      <td>12.417670</td>\n",
       "      <td>9.510795</td>\n",
       "      <td>9007.284726</td>\n",
       "      <td>3.158475</td>\n",
       "      <td>33995.636496</td>\n",
       "      <td>2393.414456</td>\n",
       "      <td>1.846756</td>\n",
       "      <td>74.111579</td>\n",
       "      <td>0.445989</td>\n",
       "      <td>0.489814</td>\n",
       "      <td>0.497774</td>\n",
       "      <td>0.488067</td>\n",
       "      <td>0.466587</td>\n",
       "    </tr>\n",
       "    <tr>\n",
       "      <th>min</th>\n",
       "      <td>0.000000</td>\n",
       "      <td>1.218629</td>\n",
       "      <td>0.000000</td>\n",
       "      <td>0.000000</td>\n",
       "      <td>8.110000</td>\n",
       "      <td>1.000000</td>\n",
       "      <td>1.000000</td>\n",
       "      <td>2.000000</td>\n",
       "      <td>3.000000</td>\n",
       "      <td>163.000000</td>\n",
       "      <td>0.000000</td>\n",
       "      <td>-13.000000</td>\n",
       "      <td>0.000000</td>\n",
       "      <td>0.000000</td>\n",
       "      <td>0.000000</td>\n",
       "      <td>0.000000</td>\n",
       "      <td>0.000000</td>\n",
       "    </tr>\n",
       "    <tr>\n",
       "      <th>25%</th>\n",
       "      <td>121.000000</td>\n",
       "      <td>74.543822</td>\n",
       "      <td>23.000000</td>\n",
       "      <td>0.000000</td>\n",
       "      <td>20.020000</td>\n",
       "      <td>8.000000</td>\n",
       "      <td>363.000000</td>\n",
       "      <td>5.000000</td>\n",
       "      <td>1375.000000</td>\n",
       "      <td>1653.000000</td>\n",
       "      <td>0.052115</td>\n",
       "      <td>0.000000</td>\n",
       "      <td>0.000000</td>\n",
       "      <td>0.000000</td>\n",
       "      <td>0.000000</td>\n",
       "      <td>0.000000</td>\n",
       "      <td>0.000000</td>\n",
       "    </tr>\n",
       "    <tr>\n",
       "      <th>50%</th>\n",
       "      <td>815.000000</td>\n",
       "      <td>245.416130</td>\n",
       "      <td>136.000000</td>\n",
       "      <td>4.000000</td>\n",
       "      <td>27.060000</td>\n",
       "      <td>10.000000</td>\n",
       "      <td>2049.000000</td>\n",
       "      <td>7.000000</td>\n",
       "      <td>7608.000000</td>\n",
       "      <td>2456.000000</td>\n",
       "      <td>0.421525</td>\n",
       "      <td>1.000000</td>\n",
       "      <td>1.000000</td>\n",
       "      <td>1.000000</td>\n",
       "      <td>0.000000</td>\n",
       "      <td>0.000000</td>\n",
       "      <td>0.000000</td>\n",
       "    </tr>\n",
       "    <tr>\n",
       "      <th>75%</th>\n",
       "      <td>2700.000000</td>\n",
       "      <td>376.080598</td>\n",
       "      <td>528.000000</td>\n",
       "      <td>12.000000</td>\n",
       "      <td>34.910000</td>\n",
       "      <td>14.000000</td>\n",
       "      <td>7815.000000</td>\n",
       "      <td>8.000000</td>\n",
       "      <td>30141.000000</td>\n",
       "      <td>3553.000000</td>\n",
       "      <td>1.099366</td>\n",
       "      <td>5.000000</td>\n",
       "      <td>1.000000</td>\n",
       "      <td>1.000000</td>\n",
       "      <td>1.000000</td>\n",
       "      <td>1.000000</td>\n",
       "      <td>1.000000</td>\n",
       "    </tr>\n",
       "    <tr>\n",
       "      <th>max</th>\n",
       "      <td>13600.000000</td>\n",
       "      <td>597.301123</td>\n",
       "      <td>2588.000000</td>\n",
       "      <td>59.000000</td>\n",
       "      <td>74.370000</td>\n",
       "      <td>54.000000</td>\n",
       "      <td>41978.000000</td>\n",
       "      <td>16.000000</td>\n",
       "      <td>173714.000000</td>\n",
       "      <td>15063.000000</td>\n",
       "      <td>17.891817</td>\n",
       "      <td>349.000000</td>\n",
       "      <td>1.000000</td>\n",
       "      <td>1.000000</td>\n",
       "      <td>1.000000</td>\n",
       "      <td>1.000000</td>\n",
       "      <td>1.000000</td>\n",
       "    </tr>\n",
       "  </tbody>\n",
       "</table>\n",
       "</div>"
      ],
      "text/plain": [
       "              claps  days_since_publication         fans  num_responses  \\\n",
       "count    133.000000              133.000000   133.000000     133.000000   \n",
       "mean    1815.263158              248.407273   352.052632       7.045113   \n",
       "std     2449.074661              179.370879   479.060117       9.056108   \n",
       "min        0.000000                1.218629     0.000000       0.000000   \n",
       "25%      121.000000               74.543822    23.000000       0.000000   \n",
       "50%      815.000000              245.416130   136.000000       4.000000   \n",
       "75%     2700.000000              376.080598   528.000000      12.000000   \n",
       "max    13600.000000              597.301123  2588.000000      59.000000   \n",
       "\n",
       "       read_ratio   read_time         reads  title_word_count          views  \\\n",
       "count  133.000000  133.000000    133.000000        133.000000     133.000000   \n",
       "mean    29.074662   12.917293   6336.300752          7.127820   23404.030075   \n",
       "std     12.417670    9.510795   9007.284726          3.158475   33995.636496   \n",
       "min      8.110000    1.000000      1.000000          2.000000       3.000000   \n",
       "25%     20.020000    8.000000    363.000000          5.000000    1375.000000   \n",
       "50%     27.060000   10.000000   2049.000000          7.000000    7608.000000   \n",
       "75%     34.910000   14.000000   7815.000000          8.000000   30141.000000   \n",
       "max     74.370000   54.000000  41978.000000         16.000000  173714.000000   \n",
       "\n",
       "         word_count  claps_per_word  editing_days  <tag>Education  \\\n",
       "count    133.000000      133.000000    133.000000      133.000000   \n",
       "mean    3029.120301        0.957638     20.330827        0.729323   \n",
       "std     2393.414456        1.846756     74.111579        0.445989   \n",
       "min      163.000000        0.000000    -13.000000        0.000000   \n",
       "25%     1653.000000        0.052115      0.000000        0.000000   \n",
       "50%     2456.000000        0.421525      1.000000        1.000000   \n",
       "75%     3553.000000        1.099366      5.000000        1.000000   \n",
       "max    15063.000000       17.891817    349.000000        1.000000   \n",
       "\n",
       "       <tag>Data Science  <tag>Towards Data Science  <tag>Machine Learning  \\\n",
       "count         133.000000                 133.000000             133.000000   \n",
       "mean            0.609023                   0.436090               0.383459   \n",
       "std             0.489814                   0.497774               0.488067   \n",
       "min             0.000000                   0.000000               0.000000   \n",
       "25%             0.000000                   0.000000               0.000000   \n",
       "50%             1.000000                   0.000000               0.000000   \n",
       "75%             1.000000                   1.000000               1.000000   \n",
       "max             1.000000                   1.000000               1.000000   \n",
       "\n",
       "       <tag>Python  \n",
       "count   133.000000  \n",
       "mean      0.315789  \n",
       "std       0.466587  \n",
       "min       0.000000  \n",
       "25%       0.000000  \n",
       "50%       0.000000  \n",
       "75%       1.000000  \n",
       "max       1.000000  "
      ]
     },
     "execution_count": 4,
     "metadata": {},
     "output_type": "execute_result"
    }
   ],
   "source": [
    "df.describe()"
   ]
  },
  {
   "cell_type": "markdown",
   "metadata": {},
   "source": [
    "# Simple Widgets\n",
    "\n",
    "Let's get started using some widgets! We'll start off pretty simple just to see how the interface works."
   ]
  },
  {
   "cell_type": "code",
   "execution_count": 5,
   "metadata": {
    "ExecuteTime": {
     "end_time": "2019-02-11T21:59:17.894781Z",
     "start_time": "2019-02-11T21:59:17.849710Z"
    }
   },
   "outputs": [],
   "source": [
    "import ipywidgets as widgets\n",
    "from ipywidgets import interact, interact_manual"
   ]
  },
  {
   "cell_type": "markdown",
   "metadata": {},
   "source": [
    "To make a function interactive, all we have to do is use the `interact` decorator. This will automatically infer the input types for us! "
   ]
  },
  {
   "cell_type": "code",
   "execution_count": 6,
   "metadata": {
    "ExecuteTime": {
     "end_time": "2019-02-11T21:59:18.144261Z",
     "start_time": "2019-02-11T21:59:17.897741Z"
    }
   },
   "outputs": [
    {
     "data": {
      "application/vnd.jupyter.widget-view+json": {
       "model_id": "3d99c26183744e5d83215cc268459af3",
       "version_major": 2,
       "version_minor": 0
      },
      "text/plain": [
       "interactive(children=(Text(value='claps', description='column'), IntSlider(value=5000, description='x', max=15…"
      ]
     },
     "metadata": {},
     "output_type": "display_data"
    }
   ],
   "source": [
    "@interact\n",
    "def show_articles_more_than(column='claps', x=5000):\n",
    "    display(HTML(f'<h2>Showing articles with more than {x} {column}<h2>'))\n",
    "    display(df.loc[df[column] > x, ['title', 'published_date', 'read_time', 'tags', 'views', 'reads']])"
   ]
  },
  {
   "cell_type": "code",
   "execution_count": 9,
   "metadata": {},
   "outputs": [
    {
     "data": {
      "application/vnd.jupyter.widget-view+json": {
       "model_id": "4ac0bff2e6e5487da48bd7eea4b133ea",
       "version_major": 2,
       "version_minor": 0
      },
      "text/plain": [
       "interactive(children=(Text(value='claps', description='column'), IntSlider(value=2000, description='x', max=60…"
      ]
     },
     "metadata": {},
     "output_type": "display_data"
    }
   ],
   "source": [
    "@interact\n",
    "def show_articles_more_than(column='claps', x=2000):\n",
    "    display(HTML(f'<h2>Showing articles with more than {x} {column}<h2>'))\n",
    "    display(df.loc[df[column] > 2000, ['claps','title', 'published_date', 'read_time', 'tags', 'views', 'reads']])"
   ]
  },
  {
   "cell_type": "markdown",
   "metadata": {},
   "source": [
    "The `interact` decorator automatically inferred we want a `text` box for the `column` and an `int` slider for `x`! This makes it incredibly simple to add interactivity. We can also set the options how we want."
   ]
  },
  {
   "cell_type": "code",
   "execution_count": 17,
   "metadata": {
    "ExecuteTime": {
     "end_time": "2019-02-11T21:59:18.251039Z",
     "start_time": "2019-02-11T21:59:18.147133Z"
    }
   },
   "outputs": [
    {
     "data": {
      "application/vnd.jupyter.widget-view+json": {
       "model_id": "5d3770ecf9464a3d93f1413ef8fb4943",
       "version_major": 2,
       "version_minor": 0
      },
      "text/plain": [
       "interactive(children=(IntSlider(value=3000, description='x', max=5000, min=1000, step=100), Dropdown(descripti…"
      ]
     },
     "metadata": {},
     "output_type": "display_data"
    }
   ],
   "source": [
    "@interact\n",
    "def show_titles_more_than(x=(1000, 5000, 100),\n",
    "                          column=list(df.select_dtypes('number').columns), \n",
    "                          ):\n",
    "    # display(HTML(f'<h2>Showing articles with more than {x} {column}<h2>'))\n",
    "    display(df.loc[df[column] > x, ['title', 'published_date', 'read_time', 'tags', 'views', 'reads']])"
   ]
  },
  {
   "cell_type": "markdown",
   "metadata": {},
   "source": [
    "This now gives us a `dropdown` for the `column` selection and still an `int` slider for `x`, but with limits. This can be useful when we need to enforce certains constraints on the interaction."
   ]
  },
  {
   "cell_type": "code",
   "execution_count": 6,
   "metadata": {},
   "outputs": [
    {
     "name": "stderr",
     "output_type": "stream",
     "text": [
      "Matplotlib is building the font cache; this may take a moment.\n"
     ]
    },
    {
     "data": {
      "text/plain": [
       "<Figure size 432x288 with 0 Axes>"
      ]
     },
     "metadata": {},
     "output_type": "display_data"
    },
    {
     "data": {
      "image/png": "[encoded data removed]",
      "text/plain": [
       "<Figure size 432x288 with 1 Axes>"
      ]
     },
     "metadata": {
      "needs_background": "light"
     },
     "output_type": "display_data"
    }
   ],
   "source": [
    "import matplotlib.pyplot as plt\n",
    "\n",
    "ts = pd.Series(np.random.randn(1000), index=pd.date_range(\"1/1/2000\", periods=1000))\n",
    "df = pd.DataFrame(np.random.randn(1000, 4), index=ts.index, columns=list(\"ABCD\"))\n",
    "\n",
    "df = df.cumsum()\n",
    "plt.figure();\n",
    "df.plot();"
   ]
  },
  {
   "cell_type": "markdown",
   "metadata": {},
   "source": [
    "# Dataframe Explorer\n",
    "\n",
    "Let's look at a few more examples of using widgets to explore data. Here we create a widget that quickly lets us find correlations between columns."
   ]
  },
  {
   "cell_type": "code",
   "execution_count": 19,
   "metadata": {
    "ExecuteTime": {
     "end_time": "2019-02-11T21:59:18.682329Z",
     "start_time": "2019-02-11T21:59:18.610843Z"
    }
   },
   "outputs": [
    {
     "data": {
      "application/vnd.jupyter.widget-view+json": {
       "model_id": "ae0b5fcbbad347d98a62e943e0c4ca20",
       "version_major": 2,
       "version_minor": 0
      },
      "text/plain": [
       "interactive(children=(Dropdown(description='column1', options=('claps', 'days_since_publication', 'fans', 'num…"
      ]
     },
     "metadata": {},
     "output_type": "display_data"
    }
   ],
   "source": [
    "@interact\n",
    "def correlations(column1=list(df.select_dtypes('number').columns), \n",
    "                 column2=list(df.select_dtypes('number').columns)):\n",
    "    print(f\"Correlation: {df[column1].corr(df[column2])}\")"
   ]
  },
  {
   "cell_type": "markdown",
   "metadata": {},
   "source": [
    "Here's one to describe a specific column."
   ]
  },
  {
   "cell_type": "code",
   "execution_count": 20,
   "metadata": {
    "ExecuteTime": {
     "end_time": "2019-02-11T21:59:18.734969Z",
     "start_time": "2019-02-11T21:59:18.683939Z"
    }
   },
   "outputs": [
    {
     "data": {
      "application/vnd.jupyter.widget-view+json": {
       "model_id": "3fd98c464f9243478762d75d67987c11",
       "version_major": 2,
       "version_minor": 0
      },
      "text/plain": [
       "interactive(children=(Dropdown(description='column', options=('claps', 'days_since_publication', 'fans', 'link…"
      ]
     },
     "metadata": {},
     "output_type": "display_data"
    }
   ],
   "source": [
    "@interact\n",
    "def describe(column=list(df.columns)):\n",
    "    print(df[column].describe())"
   ]
  },
  {
   "cell_type": "markdown",
   "metadata": {},
   "source": [
    "# Interactive Widgets for Plots\n",
    "\n",
    "We can use the same basic approach to create interactive widgets for plots. This expands the capabilities of the already powerful plotly visualization library."
   ]
  },
  {
   "cell_type": "code",
   "execution_count": 21,
   "metadata": {
    "ExecuteTime": {
     "end_time": "2019-02-11T21:59:19.742380Z",
     "start_time": "2019-02-11T21:59:18.736434Z"
    }
   },
   "outputs": [
    {
     "data": {
      "application/vnd.jupyter.widget-view+json": {
       "model_id": "89d01b2bffad4dddba20f73baa421443",
       "version_major": 2,
       "version_minor": 0
      },
      "text/plain": [
       "interactive(children=(Dropdown(description='x', options=('claps', 'days_since_publication', 'fans', 'num_respo…"
      ]
     },
     "metadata": {},
     "output_type": "display_data"
    }
   ],
   "source": [
    "@interact\n",
    "def scatter_plot(x=list(df.select_dtypes('number').columns), \n",
    "                 y=list(df.select_dtypes('number').columns)[1:]):\n",
    "    df.iplot(kind='scatter', x=x, y=y, mode='markers', \n",
    "             xTitle=x.title(), yTitle=y.title(), title=f'{y.title()} vs {x.title()}')"
   ]
  },
  {
   "cell_type": "markdown",
   "metadata": {},
   "source": [
    "Let's add some options to control the column scheme."
   ]
  },
  {
   "cell_type": "code",
   "execution_count": 22,
   "metadata": {
    "ExecuteTime": {
     "end_time": "2019-02-11T21:59:20.056907Z",
     "start_time": "2019-02-11T21:59:19.745853Z"
    }
   },
   "outputs": [
    {
     "data": {
      "application/vnd.jupyter.widget-view+json": {
       "model_id": "18e23d77cecc46b3bc6649081d740061",
       "version_major": 2,
       "version_minor": 0
      },
      "text/plain": [
       "interactive(children=(Dropdown(description='x', options=('claps', 'days_since_publication', 'fans', 'num_respo…"
      ]
     },
     "metadata": {},
     "output_type": "display_data"
    }
   ],
   "source": [
    "@interact\n",
    "def scatter_plot(x=list(df.select_dtypes('number').columns), \n",
    "                 y=list(df.select_dtypes('number').columns)[1:],\n",
    "                 theme=list(cf.themes.THEMES.keys()), \n",
    "                 colorscale=list(cf.colors._scales_names.keys())):\n",
    "    \n",
    "    df.iplot(kind='scatter', x=x, y=y, mode='markers', \n",
    "             xTitle=x.title(), yTitle=y.title(), \n",
    "             text='title',\n",
    "             title=f'{y.title()} vs {x.title()}',\n",
    "            theme=theme, colorscale=colorscale)"
   ]
  },
  {
   "cell_type": "markdown",
   "metadata": {},
   "source": [
    "The next plot lets us choose the grouping category for the plot. "
   ]
  },
  {
   "cell_type": "code",
   "execution_count": 23,
   "metadata": {
    "ExecuteTime": {
     "end_time": "2019-02-11T21:59:20.694691Z",
     "start_time": "2019-02-11T21:59:20.059308Z"
    }
   },
   "outputs": [
    {
     "data": {
      "application/vnd.jupyter.widget-view+json": {
       "model_id": "d61f12cb0cb3440294c33ff91d05ce15",
       "version_major": 2,
       "version_minor": 0
      },
      "text/plain": [
       "interactive(children=(Dropdown(description='x', options=('claps', 'days_since_publication', 'fans', 'num_respo…"
      ]
     },
     "metadata": {},
     "output_type": "display_data"
    }
   ],
   "source": [
    "df['binned_read_time'] = pd.cut(df['read_time'], bins=range(0, 56, 5))\n",
    "df['binned_read_time'] = df['binned_read_time'].astype(str)\n",
    "\n",
    "df['binned_word_count'] = pd.cut(df['word_count'], bins=range(0, 100001, 1000))\n",
    "df['binned_word_count'] = df['binned_word_count'].astype(str)\n",
    "\n",
    "@interact\n",
    "def scatter_plot(x=list(df.select_dtypes('number').columns), \n",
    "                 y=list(df.select_dtypes('number').columns)[1:],\n",
    "                 categories=['binned_read_time', 'binned_word_count', 'publication', 'type'],\n",
    "                 theme=list(cf.themes.THEMES.keys()), \n",
    "                 colorscale=list(cf.colors._scales_names.keys())):\n",
    "    \n",
    "    df.iplot(kind='scatter', x=x, y=y, mode='markers', \n",
    "             categories=categories, \n",
    "             xTitle=x.title(), yTitle=y.title(), \n",
    "             text='title',\n",
    "             title=f'{y.title()} vs {x.title()}',\n",
    "             theme=theme, colorscale=colorscale)"
   ]
  },
  {
   "cell_type": "markdown",
   "metadata": {},
   "source": [
    "You may have noticed this plot was a little slow to update. When that is the case, we can use `interact_manual` which only updates the function when the button is pressed."
   ]
  },
  {
   "cell_type": "code",
   "execution_count": 24,
   "metadata": {
    "ExecuteTime": {
     "end_time": "2019-02-11T21:59:20.751182Z",
     "start_time": "2019-02-11T21:59:20.696239Z"
    }
   },
   "outputs": [],
   "source": [
    "from ipywidgets import interact_manual"
   ]
  },
  {
   "cell_type": "code",
   "execution_count": 25,
   "metadata": {
    "ExecuteTime": {
     "end_time": "2019-02-11T21:59:20.859857Z",
     "start_time": "2019-02-11T21:59:20.753440Z"
    }
   },
   "outputs": [
    {
     "data": {
      "application/vnd.jupyter.widget-view+json": {
       "model_id": "ab449c236f0244b6abba2486484984f6",
       "version_major": 2,
       "version_minor": 0
      },
      "text/plain": [
       "interactive(children=(Dropdown(description='x', options=('claps', 'days_since_publication', 'fans', 'num_respo…"
      ]
     },
     "metadata": {},
     "output_type": "display_data"
    }
   ],
   "source": [
    "@interact_manual\n",
    "def scatter_plot(x=list(df.select_dtypes('number').columns), \n",
    "                 y=list(df.select_dtypes('number').columns)[1:],\n",
    "                 categories=['binned_read_time', 'binned_word_count', 'publication', 'type'],\n",
    "                 theme=list(cf.themes.THEMES.keys()), \n",
    "                 colorscale=list(cf.colors._scales_names.keys())):\n",
    "    \n",
    "    df.iplot(kind='scatter', x=x, y=y, mode='markers', \n",
    "             categories=categories, \n",
    "             xTitle=x.title(), yTitle=y.title(), \n",
    "             text='title',\n",
    "             title=f'{y.title()} vs {x.title()}',\n",
    "             theme=theme, colorscale=colorscale)"
   ]
  },
  {
   "cell_type": "markdown",
   "metadata": {},
   "source": [
    "# Making Our Own Widgets\n",
    "\n",
    "The decorator `interact` (or `interact_manual`) is not the only way to use widgets. We can also explicity create our own. One of the most useful I've found is the `DataPicker`."
   ]
  },
  {
   "cell_type": "code",
   "execution_count": 26,
   "metadata": {
    "ExecuteTime": {
     "end_time": "2019-02-11T21:59:20.916568Z",
     "start_time": "2019-02-11T21:59:20.861736Z"
    }
   },
   "outputs": [],
   "source": [
    "df.set_index('published_date', inplace=True)"
   ]
  },
  {
   "cell_type": "code",
   "execution_count": 27,
   "metadata": {
    "ExecuteTime": {
     "end_time": "2019-02-11T21:59:21.047340Z",
     "start_time": "2019-02-11T21:59:20.920596Z"
    }
   },
   "outputs": [
    {
     "data": {
      "application/vnd.jupyter.widget-view+json": {
       "model_id": "87771db350674cb4a899cab92137a9c8",
       "version_major": 2,
       "version_minor": 0
      },
      "text/plain": [
       "interactive(children=(DatePicker(value=Timestamp('2018-01-01 00:00:00'), description='start_date'), DatePicker…"
      ]
     },
     "metadata": {},
     "output_type": "display_data"
    },
    {
     "name": "stderr",
     "output_type": "stream",
     "text": [
      "C:\\Users\\Archana\\Anaconda3\\Anaconda3_\\lib\\site-packages\\traitlets\\traitlets.py:586: FutureWarning:\n",
      "\n",
      "Comparison of Timestamp with datetime.date is deprecated in order to match the standard library behavior.  In a future version these will be considered non-comparable.Use 'ts == pd.Timestamp(date)' or 'ts.date() == date' instead.\n",
      "\n"
     ]
    }
   ],
   "source": [
    "def print_articles_published(start_date, end_date):\n",
    "    start_date = pd.Timestamp(start_date)\n",
    "    end_date = pd.Timestamp(end_date)\n",
    "    stat_df = df.loc[(df.index >= start_date) & (df.index <= end_date)].copy()\n",
    "    total_words = stat_df['word_count'].sum()\n",
    "    total_read_time = stat_df['read_time'].sum()\n",
    "    num_articles = len(stat_df)\n",
    "    print(f'You published {num_articles} articles between {start_date.date()} and {end_date.date()}.')\n",
    "    print(f'These articles totalled {total_words:,} words and {total_read_time/60:.2f} hours to read.')\n",
    "    \n",
    "_ = interact(print_articles_published,\n",
    "             start_date=widgets.DatePicker(value=pd.to_datetime('2018-01-01')),\n",
    "             end_date=widgets.DatePicker(value=pd.to_datetime('2019-01-01')))"
   ]
  },
  {
   "cell_type": "markdown",
   "metadata": {},
   "source": [
    "For this function, we use a `Dropdown` and a `DatePicker` to plot one column cumulatively up to a certain time. Instead of having to write this ourselves, we can just let `ipywidgets` do all the work!"
   ]
  },
  {
   "cell_type": "code",
   "execution_count": 28,
   "metadata": {
    "ExecuteTime": {
     "end_time": "2019-02-11T21:59:21.284716Z",
     "start_time": "2019-02-11T21:59:21.049952Z"
    }
   },
   "outputs": [
    {
     "data": {
      "application/vnd.jupyter.widget-view+json": {
       "model_id": "d18233439ed44cab8c9e3cc549a76bbe",
       "version_major": 2,
       "version_minor": 0
      },
      "text/plain": [
       "interactive(children=(Dropdown(description='column', options=('claps', 'days_since_publication', 'fans', 'num_…"
      ]
     },
     "metadata": {},
     "output_type": "display_data"
    }
   ],
   "source": [
    "def plot_up_to(column, date):\n",
    "    date = pd.Timestamp(date)\n",
    "    plot_df = df.loc[df.index <= date].copy()\n",
    "    plot_df[column].cumsum().iplot(mode='markers+lines', \n",
    "                                   xTitle='published date',\n",
    "                                   yTitle=column, \n",
    "                                  title=f'Cumulative {column.title()} Until {date.date()}')\n",
    "    \n",
    "_ = interact(plot_up_to, column=widgets.Dropdown(options=list(df.select_dtypes('number').columns)), \n",
    "             date = widgets.DatePicker(value=pd.to_datetime('2019-01-01')))"
   ]
  },
  {
   "cell_type": "markdown",
   "metadata": {},
   "source": [
    "# Linked Values\n",
    "\n",
    "We can link the value of two widgets to each other using the `jslink` function. This ties the values to be the same."
   ]
  },
  {
   "cell_type": "code",
   "execution_count": 30,
   "metadata": {
    "ExecuteTime": {
     "end_time": "2019-02-11T21:59:21.947232Z",
     "start_time": "2019-02-11T21:59:21.817802Z"
    }
   },
   "outputs": [
    {
     "data": {
      "application/vnd.jupyter.widget-view+json": {
       "model_id": "97018c912a2e45f89cf32b764da79740",
       "version_major": 2,
       "version_minor": 0
      },
      "text/plain": [
       "interactive(children=(IntText(value=100, description='column1_value'), IntSlider(value=100, description='colum…"
      ]
     },
     "metadata": {},
     "output_type": "display_data"
    }
   ],
   "source": [
    "def show_less_than(column1_value, column2_value):\n",
    "    display(df.loc[(df['views'] < column1_value) & \n",
    "                    (df['reads'] < column2_value), \n",
    "                   ['title', 'read_time', 'tags', 'views', 'reads']])\n",
    "        \n",
    "column1_value=widgets.IntText(value=100, label='First')\n",
    "column2_value=widgets.IntSlider(value=100, label='Second')\n",
    "\n",
    "linked = widgets.jslink((column1_value, 'value'),\n",
    "                        (column2_value, 'value'))\n",
    "\n",
    "less_than = interact(show_less_than, column1_value=column1_value,\n",
    "                 column2_value=column2_value)"
   ]
  },
  {
   "cell_type": "markdown",
   "metadata": {},
   "source": [
    "I'm not exactly sure why you would want to link two widgets, but there you go! We can unlink them using the `unlink` command (sometimes syntax does make sense)."
   ]
  },
  {
   "cell_type": "code",
   "execution_count": 31,
   "metadata": {
    "ExecuteTime": {
     "end_time": "2019-02-11T21:59:22.001784Z",
     "start_time": "2019-02-11T21:59:21.948880Z"
    }
   },
   "outputs": [],
   "source": [
    "linked.unlink()"
   ]
  },
  {
   "cell_type": "code",
   "execution_count": 32,
   "metadata": {
    "ExecuteTime": {
     "end_time": "2019-02-11T21:59:22.072554Z",
     "start_time": "2019-02-11T21:59:22.003500Z"
    }
   },
   "outputs": [
    {
     "data": {
      "application/vnd.jupyter.widget-view+json": {
       "model_id": "97018c912a2e45f89cf32b764da79740",
       "version_major": 2,
       "version_minor": 0
      },
      "text/plain": [
       "interactive(children=(IntText(value=100, description='column1_value'), IntSlider(value=100, description='colum…"
      ]
     },
     "metadata": {},
     "output_type": "display_data"
    }
   ],
   "source": [
    "less_than.widget"
   ]
  },
  {
   "cell_type": "markdown",
   "metadata": {},
   "source": [
    "# Conclusions\n",
    "\n",
    "These widgets are not going to change your life, but they do make notebooks closer to interactive dashboards. I've only shown you some of the capabilities so be sure to look at the [documentation for the full details]. The Jupyter Notebook is useful by itself, but with additional tools, it can be an even better data exploration and analysis technology. Thanks to the efforts of many developers and contributors to open-source, we have these great technologies, so we might as well get the most from these libraries! "
   ]
  },
  {
   "cell_type": "code",
   "execution_count": 33,
   "metadata": {
    "ExecuteTime": {
     "end_time": "2019-02-11T21:59:22.128193Z",
     "start_time": "2019-02-11T21:59:22.074179Z"
    }
   },
   "outputs": [],
   "source": [
    "cscales = ['Greys', 'YlGnBu', 'Greens', 'YlOrRd', 'Bluered', 'RdBu',\n",
    "            'Reds', 'Blues', 'Picnic', 'Rainbow', 'Portland', 'Jet',\n",
    "            'Hot', 'Blackbody', 'Earth', 'Electric', 'Viridis', 'Cividis']"
   ]
  },
  {
   "cell_type": "code",
   "execution_count": 34,
   "metadata": {
    "ExecuteTime": {
     "end_time": "2019-02-11T21:59:22.211843Z",
     "start_time": "2019-02-11T21:59:22.130241Z"
    }
   },
   "outputs": [
    {
     "data": {
      "application/vnd.jupyter.widget-view+json": {
       "model_id": "c6803a1f21534c9bb36a98ea3fa56533",
       "version_major": 2,
       "version_minor": 0
      },
      "text/plain": [
       "interactive(children=(Dropdown(description='colorscale', options=('Greys', 'YlGnBu', 'Greens', 'YlOrRd', 'Blue…"
      ]
     },
     "metadata": {},
     "output_type": "display_data"
    }
   ],
   "source": [
    "import plotly.figure_factory as ff\n",
    "\n",
    "corrs = df.corr()\n",
    "\n",
    "@interact_manual\n",
    "def plot_corrs(colorscale=cscales):\n",
    "    figure = ff.create_annotated_heatmap(z = corrs.round(2).values, \n",
    "                                     x =list(corrs.columns), \n",
    "                                     y=list(corrs.index), \n",
    "                                     colorscale=colorscale,\n",
    "                                     annotation_text=corrs.round(2).values)\n",
    "    iplot(figure)"
   ]
  },
  {
   "cell_type": "code",
   "execution_count": 35,
   "metadata": {
    "ExecuteTime": {
     "end_time": "2019-02-11T21:59:22.438146Z",
     "start_time": "2019-02-11T21:59:22.213746Z"
    }
   },
   "outputs": [
    {
     "data": {
      "application/vnd.jupyter.widget-view+json": {
       "model_id": "bdcf56f465c641118a0b1d38dbcf62da",
       "version_major": 2,
       "version_minor": 0
      },
      "text/plain": [
       "interactive(children=(Dropdown(description='column1', options=('claps', 'views', 'read', 'word_count'), value=…"
      ]
     },
     "metadata": {},
     "output_type": "display_data"
    }
   ],
   "source": [
    "@interact\n",
    "def plot_spread(column1=['claps', 'views', 'read', 'word_count'], \n",
    "                 column2=['views', 'claps', 'read', 'word_count']):\n",
    "    df.iplot(kind='ratio',\n",
    "                                                   y=column1,\n",
    "                                                   secondary_y=column2,\n",
    "                                                   title=f'{column1.title()} and {column2.title()} Spread Plot',\n",
    "                                 xTitle='Published Date')"
   ]
  },
  {
   "cell_type": "code",
   "execution_count": null,
   "metadata": {},
   "outputs": [],
   "source": []
  }
 ],
 "metadata": {
  "hide_input": false,
  "kernelspec": {
   "display_name": "Python 3",
   "language": "python",
   "name": "python3"
  },
  "language_info": {
   "codemirror_mode": {
    "name": "ipython",
    "version": 3
   },
   "file_extension": ".py",
   "mimetype": "text/x-python",
   "name": "python",
   "nbconvert_exporter": "python",
   "pygments_lexer": "ipython3",
   "version": "3.8.8"
  },
  "toc": {
   "base_numbering": 1,
   "nav_menu": {},
   "number_sections": true,
   "sideBar": true,
   "skip_h1_title": false,
   "title_cell": "Table of Contents",
   "title_sidebar": "Contents",
   "toc_cell": false,
   "toc_position": {},
   "toc_section_display": true,
   "toc_window_display": false
  },
  "varInspector": {
   "cols": {
    "lenName": 16,
    "lenType": 16,
    "lenVar": 40
   },
   "kernels_config": {
    "python": {
     "delete_cmd_postfix": "",
     "delete_cmd_prefix": "del ",
     "library": "var_list.py",
     "varRefreshCmd": "print(var_dic_list())"
    },
    "r": {
     "delete_cmd_postfix": ") ",
     "delete_cmd_prefix": "rm(",
     "library": "var_list.r",
     "varRefreshCmd": "cat(var_dic_list()) "
    }
   },
   "types_to_exclude": [
    "module",
    "function",
    "builtin_function_or_method",
    "instance",
    "_Feature"
   ],
   "window_display": false
  }
 },
 "nbformat": 4,
 "nbformat_minor": 2
}
